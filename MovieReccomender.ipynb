{
  "nbformat": 4,
  "nbformat_minor": 0,
  "metadata": {
    "colab": {
      "name": "MovieReccomender.ipynb",
      "provenance": [],
      "collapsed_sections": []
    },
    "kernelspec": {
      "name": "python3",
      "display_name": "Python 3"
    },
    "language_info": {
      "name": "python"
    }
  },
  "cells": [
    {
      "cell_type": "code",
      "metadata": {
        "id": "LZZzm0_5VaQ7"
      },
      "source": [
        "import tensorflow as tf\n",
        "import numpy as np\n",
        "import pandas as pd \n",
        "import matplotlib.pyplot as plt \n",
        "\n",
        "from sklearn.metrics.pairwise import cosine_similarity\n",
        "from sklearn.feature_extraction.text import CountVectorizer\n",
        "\n",
        "import pickle\n",
        "from sklearn.preprocessing import MinMaxScaler"
      ],
      "execution_count": 4,
      "outputs": []
    },
    {
      "cell_type": "code",
      "metadata": {
        "id": "jP1fSKOVWXP1"
      },
      "source": [
        "data = pd.read_csv(\"/content/mpst_full_data.csv\").iloc[ :5000  , 1:4].values\n",
        "\n"
      ],
      "execution_count": 5,
      "outputs": []
    },
    {
      "cell_type": "code",
      "metadata": {
        "id": "nxV1cwEqb3qI",
        "colab": {
          "base_uri": "https://localhost:8080/"
        },
        "outputId": "ad15558b-bffa-4e74-9d42-32747ed03fa2"
      },
      "source": [
        "# retrieval fuction \n",
        "def getMovieAtIndex(i):\n",
        "  return data[i, [0]][0]\n",
        "\n",
        "def getIndexOfMovie(title):\n",
        "  return np.where(data[ : , [0]] == title)[0][0]\n",
        "\n",
        "print(getIndexOfMovie(\"I Know What You Did Last Summer\"))"
      ],
      "execution_count": 6,
      "outputs": [
        {
          "output_type": "stream",
          "text": [
            "3573\n"
          ],
          "name": "stdout"
        }
      ]
    },
    {
      "cell_type": "code",
      "metadata": {
        "id": "hoEIb-lEZfxx"
      },
      "source": [
        "\n",
        "# combining all important columns into a single vector \n",
        "def combine(arr):\n",
        "  features = []\n",
        "  for i in range(len(arr)):\n",
        "    features.append(arr[i][0] + \" \" + arr[i][1] + \" \" + arr[i][2])\n",
        "  return np.array(features) \n",
        "\n",
        "features = combine(data)\n",
        "\n",
        "\n"
      ],
      "execution_count": 7,
      "outputs": []
    },
    {
      "cell_type": "code",
      "metadata": {
        "id": "-kzzZv7LdUWd"
      },
      "source": [
        "# tokenization \n",
        "\n",
        "cm = CountVectorizer()\n",
        "tokens = cm.fit_transform(features)\n",
        "\n",
        "cs = cosine_similarity(tokens)\n",
        "\n"
      ],
      "execution_count": 8,
      "outputs": []
    },
    {
      "cell_type": "code",
      "metadata": {
        "colab": {
          "base_uri": "https://localhost:8080/"
        },
        "id": "qBrQo-Trd10Q",
        "outputId": "a318d632-ca30-49e7-d145-2a9031b5cb9a"
      },
      "source": [
        "title = input(\"Write the movie you want to find similar movies for \")\n",
        "index = getIndexOfMovie(title)"
      ],
      "execution_count": 9,
      "outputs": [
        {
          "output_type": "stream",
          "text": [
            "Write the movie you want to find similar movies for Scarface\n"
          ],
          "name": "stdout"
        }
      ]
    },
    {
      "cell_type": "code",
      "metadata": {
        "colab": {
          "base_uri": "https://localhost:8080/"
        },
        "id": "jUJ3FFClG7IB",
        "outputId": "557f27f5-092d-4043-9af1-b6f9138a944b"
      },
      "source": [
        "print(cs)\n",
        "print(type(cs))\n",
        "with open(\"cs.pkl\", \"wb\") as f:\n",
        "  f.write(pickle.dumps(cs))"
      ],
      "execution_count": 20,
      "outputs": [
        {
          "output_type": "stream",
          "text": [
            "[[1.         0.80139056 0.76187741 ... 0.80660372 0.82049307 0.81609745]\n",
            " [0.80139056 1.         0.62336466 ... 0.74822282 0.73583025 0.82955192]\n",
            " [0.76187741 0.62336466 1.         ... 0.75593014 0.74890681 0.67314608]\n",
            " ...\n",
            " [0.80660372 0.74822282 0.75593014 ... 1.         0.79286124 0.78413765]\n",
            " [0.82049307 0.73583025 0.74890681 ... 0.79286124 1.         0.77863819]\n",
            " [0.81609745 0.82955192 0.67314608 ... 0.78413765 0.77863819 1.        ]]\n",
            "<class 'numpy.ndarray'>\n"
          ],
          "name": "stdout"
        }
      ]
    },
    {
      "cell_type": "code",
      "metadata": {
        "id": "MYxRP0A7awrs"
      },
      "source": [
        "Movie_Similarities = []\n",
        "for i in range(len(cs)):\n",
        "  Movie_Similarities.append((getMovieAtIndex(i), cs[index][i] * 100))\n",
        "Movie_Similarities = sorted(Movie_Similarities, key=lambda x:x[1], reverse=True)"
      ],
      "execution_count": 13,
      "outputs": []
    },
    {
      "cell_type": "code",
      "metadata": {
        "id": "Z7zb_flsbNMY"
      },
      "source": [
        "with open(\"rec.txt\", \"a\") as f:\n",
        "  for i in range(len(cs)):\n",
        "    f.write(f\"{Movie_Similarities[i][0]}: {Movie_Similarities[i][1]}%\\n\")"
      ],
      "execution_count": 14,
      "outputs": []
    },
    {
      "cell_type": "code",
      "metadata": {
        "id": "eBSZLSkLAQyg"
      },
      "source": [
        "with open(\"confusion_matrix.pkl\",\"wb\") as f:\n",
        "  f.write(pickle.dumps(cm))\n",
        "\n",
        "with open(\"dataset.pkl\", \"wb\") as f:\n",
        "  f.write(pickle.dumps(data))"
      ],
      "execution_count": 16,
      "outputs": []
    }
  ]
}